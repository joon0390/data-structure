{
  "nbformat": 4,
  "nbformat_minor": 0,
  "metadata": {
    "colab": {
      "provenance": [],
      "authorship_tag": "ABX9TyMVL7YKXZfkYOeCY5H3aygi",
      "include_colab_link": true
    },
    "kernelspec": {
      "name": "python3",
      "display_name": "Python 3"
    },
    "language_info": {
      "name": "python"
    }
  },
  "cells": [
    {
      "cell_type": "markdown",
      "metadata": {
        "id": "view-in-github",
        "colab_type": "text"
      },
      "source": [
        "<a href=\"https://colab.research.google.com/github/kimgoinghard/data-structure/blob/main/DoubleLinkedList.ipynb\" target=\"_parent\"><img src=\"https://colab.research.google.com/assets/colab-badge.svg\" alt=\"Open In Colab\"/></a>"
      ]
    },
    {
      "cell_type": "markdown",
      "source": [
        "#DoubleLinkedLIst \n",
        "-하나의 노드에 두 개의 주소를 가지고 있어 양방향 모두 탐색이 가능하다. \n"
      ],
      "metadata": {
        "id": "MbLJjqIE7PD0"
      }
    },
    {
      "cell_type": "code",
      "execution_count": 220,
      "metadata": {
        "colab": {
          "base_uri": "https://localhost:8080/"
        },
        "id": "Sgum1-FhSYg3",
        "outputId": "830ec3b0-6403-4604-9aec-e0554b34b5dd"
      },
      "outputs": [
        {
          "output_type": "stream",
          "name": "stdout",
          "text": [
            "감자\n",
            "귤\n",
            "사과\n",
            "수박\n",
            "딸기\n",
            "키위\n"
          ]
        }
      ],
      "source": [
        "class Node:\n",
        "  def __init__(self, item = None, prev = None, next = None):  \n",
        "    # item : 데이터, prev : 이전 노드의 주소, next : 다음 노드의 주소 \n",
        "    self.item = item\n",
        "    self.prev = None\n",
        "    self.next = None\n",
        "  \n",
        "class DoubleLinkedList:\n",
        "  def __init__(self):\n",
        "    # head : 리스트의 시작 노드이며 prev가 None이다. \n",
        "    # tail : 리스트의 마지막 노드이며 next가 None이다.\n",
        "    self.head = Node()\n",
        "    self.tail = self.head\n",
        "\n",
        "  def append(self, item): \n",
        "    curNode = self.head\n",
        "    if self.head.item == None:\n",
        "      self.head = Node(item, prev = None, next = None)\n",
        "      self.tail = self.head\n",
        "      \n",
        "    else:\n",
        "      while curNode != self.tail:\n",
        "        curNode = curNode.next\n",
        "      new = Node(item, prev = curNode, next = None)\n",
        "      curNode.next = new\n",
        "      new.prev = curNode\n",
        "      self.tail = new\n",
        "\n",
        "  def pprint(self):\n",
        "    #정방향 출력 함수\n",
        "    curNode = self.head\n",
        "    while curNode != self.tail:\n",
        "      print(curNode.item)\n",
        "      curNode = curNode.next\n",
        "    print(curNode.item)\n",
        "\n",
        "  def inv_pprint(self):\n",
        "    #역방향 출력 함수\n",
        "    curNode = self.tail\n",
        "    while curNode != self.head:\n",
        "      print(curNode.item)\n",
        "      curNode = curNode.prev\n",
        "    print(curNode.item)\n",
        "\n",
        "  def find_neighbor(self, item):\n",
        "    #찾고자 하는 item 양옆의 노드를 탐색하여 리스트로 출력하는 함수.\n",
        "    curNode = self.head\n",
        "    neigh = []\n",
        "    while curNode.next != None:\n",
        "      curNode = curNode.next\n",
        "      if curNode.item == item:\n",
        "        neigh.append(curNode.prev.item) \n",
        "        neigh.append(curNode.next.item)\n",
        "    return neigh\n",
        "\n",
        "  def search(self, item):\n",
        "    #인덱스 반환 함수\n",
        "    curNode = self.head\n",
        "    ind = 1\n",
        "    if self.head.item == item:\n",
        "      return 1\n",
        "    else:  \n",
        "      while curNode.next != None:\n",
        "        curNode = curNode.next\n",
        "        ind +=1\n",
        "        if curNode.item == item:\n",
        "          break\n",
        "      return ind \n",
        "    \n",
        "  def delete(self, item):\n",
        "    #item 삭제 함수\n",
        "    curNode = self.head\n",
        "    if curNode.item == item:\n",
        "      curNode.next.prev = None\n",
        "      self.head = curNode.next\n",
        "    else:\n",
        "      while curNode.next != None:\n",
        "          curNode = curNode.next\n",
        "          if curNode.item == item:\n",
        "            curNode.prev.next = curNode.next\n",
        "    \n",
        "  def insert(self, ind, item):\n",
        "    # 지정한 index에 item을 삽입하는 함수\n",
        "    new = Node(item)\n",
        "    curNode = self.head\n",
        "    if ind == 1:\n",
        "      new.next=  curNode\n",
        "      curNode.prev = new\n",
        "      self.head = new\n",
        "    else:\n",
        "      for i in range(0,ind-2):\n",
        "        curNode = curNode.next\n",
        "      new.next = curNode.next.next\n",
        "      curNode.next = new\n",
        "      new.prev = curNode\n",
        "\n",
        "  @classmethod\n",
        "  def add(cls, list1, list2):\n",
        "    sum = DoubleLinkedList()\n",
        "    pass\n",
        "\n",
        "\n",
        "newlist = DoubleLinkedList()\n",
        "newlist.append('딸기')\n",
        "newlist.append('귤')\n",
        "newlist.append('사과')\n",
        "newlist.append('수박')\n",
        "newlist.append('참외')\n",
        "newlist.append('키위')\n",
        "#newlist.pprint()\n",
        "#newlist.inv_pprint()\n",
        "\n",
        "#print(newlist.find_neighbor('수박'))\n",
        "#print(newlist.search('딸기'))\n",
        "newlist.delete('딸기')\n",
        "#newlist.pprint()\n",
        "newlist.insert(1, '감자')\n",
        "newlist.insert(5, '딸기')\n",
        "newlist.pprint()\n",
        "\n",
        "\n"
      ]
    }
  ]
}