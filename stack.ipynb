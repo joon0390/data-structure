{
  "nbformat": 4,
  "nbformat_minor": 0,
  "metadata": {
    "colab": {
      "provenance": [],
      "authorship_tag": "ABX9TyMvcSFumVahQMocvK/Mj09x",
      "include_colab_link": true
    },
    "kernelspec": {
      "name": "python3",
      "display_name": "Python 3"
    },
    "language_info": {
      "name": "python"
    }
  },
  "cells": [
    {
      "cell_type": "markdown",
      "metadata": {
        "id": "view-in-github",
        "colab_type": "text"
      },
      "source": [
        "<a href=\"https://colab.research.google.com/github/kimgoinghard/data-structure/blob/main/stack.ipynb\" target=\"_parent\"><img src=\"https://colab.research.google.com/assets/colab-badge.svg\" alt=\"Open In Colab\"/></a>"
      ]
    },
    {
      "cell_type": "code",
      "execution_count": 15,
      "metadata": {
        "colab": {
          "base_uri": "https://localhost:8080/"
        },
        "id": "IjK541ZNEw5S",
        "outputId": "c0f2d22a-f8ce-43d7-a816-ba1ed359a3ec"
      },
      "outputs": [
        {
          "output_type": "stream",
          "name": "stdout",
          "text": [
            "축구\n",
            "배구\n",
            "야구\n"
          ]
        }
      ],
      "source": [
        "class Stack: #item list를 가지는 Stack 자료구조 \n",
        "  def __init__(self):\n",
        "    self.items = []\n",
        "  \n",
        "  def push(self, item): # push : item list의 가장 마지막에 data 추가\n",
        "    self.item = item\n",
        "    self.items.append(item)\n",
        "\n",
        "  def pop(self): # pop : item list의 마지막 원소를 삭제하고 반환하기\n",
        "    return self.items.pop()\n",
        "  \n",
        "  def peek(self): #peek : item list의 마지막 원소를 반환하기\n",
        "    return self.items[-1]\n",
        "\n",
        "  def isEmpty(self): #isEmpty : item list가 비어있으면 True를 반환\n",
        "    return not self.item\n",
        "\n",
        "  def pprint(self): #list 원소 전체 출력\n",
        "    for i in self.items:\n",
        "      print(i)\n",
        "\n",
        "stack = Stack()\n",
        "stack.push('축구')\n",
        "stack.push('배구')\n",
        "stack.push('야구')\n",
        "stack.push('농구')\n",
        "#stack.pprint()\n",
        "stack.pop()\n",
        "stack.pprint()"
      ]
    }
  ]
}