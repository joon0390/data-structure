{
  "nbformat": 4,
  "nbformat_minor": 0,
  "metadata": {
    "colab": {
      "provenance": [],
      "authorship_tag": "ABX9TyMvZAe7q2R1yeSCTesK/ivz",
      "include_colab_link": true
    },
    "kernelspec": {
      "name": "python3",
      "display_name": "Python 3"
    },
    "language_info": {
      "name": "python"
    }
  },
  "cells": [
    {
      "cell_type": "markdown",
      "metadata": {
        "id": "view-in-github",
        "colab_type": "text"
      },
      "source": [
        "<a href=\"https://colab.research.google.com/github/kimgoinghard/data-structure/blob/main/Que_%26_LinkedQue.ipynb\" target=\"_parent\"><img src=\"https://colab.research.google.com/assets/colab-badge.svg\" alt=\"Open In Colab\"/></a>"
      ]
    },
    {
      "cell_type": "markdown",
      "source": [
        "# Que(큐) \n",
        "- 큐는 스택과 비슷하게 삽입과 삭제의 순서가 제한적인 자료구조입니다. \n",
        "- 큐는 삽입은 뒤에서, 삭제는 앞에서만 가능합니다. \n",
        "- first in first out"
      ],
      "metadata": {
        "id": "okuaUZUax2jq"
      }
    },
    {
      "cell_type": "code",
      "source": [
        "class Que:\n",
        "  def __init__(self):\n",
        "    self.head=0\n",
        "    self.tail = 0\n",
        "    self.items = []\n",
        "    \n",
        "  def isEmpty(self): #리스트가 비어있으면 True를 반환한다\n",
        "    if len(self.items) == 0:\n",
        "      return True\n",
        "    else:\n",
        "      return  False\n",
        "\n",
        "  def insert(self, item): #리스트의 제일 뒤에 추가하는 메소드\n",
        "    if self.isEmpty():\n",
        "      self.items.append(item)\n",
        "      self.tail = 1\n",
        "    else:  \n",
        "      self.items.insert(len(self.items),item)\n",
        "      self.tail = len(self.items)-1   \n",
        "\n",
        "  def delete(self): #원소를 삭제하는 메소드, 첫번째 원소를 지울 것이므로 매개변수는 필요없다.\n",
        "    del self.items[self.head]\n",
        "    self.tail -=1\n",
        "\n",
        "  def pprint(self):\n",
        "    for i in self.items:\n",
        "      print(i)\n",
        "\n",
        "  def peek(self): #Que의 head에 있는 원소를 반환하는 메소드\n",
        "    if self.isEmpty():\n",
        "      return error\n",
        "    else:\n",
        "      return self.items[self.head]\n",
        "\n",
        "A = Que()\n",
        "A.insert('딸기')\n",
        "A.insert('귤')\n",
        "A.insert('망고')\n",
        "A.insert('복숭아')\n",
        "A.delete()\n",
        "#A.pprint()\n",
        "A.insert('참외')\n",
        "#A.pprint()\n",
        "A.delete()\n",
        "A.pprint()\n",
        "A.peek()"
      ],
      "metadata": {
        "id": "lB0nFD57yW1e",
        "colab": {
          "base_uri": "https://localhost:8080/",
          "height": 87
        },
        "outputId": "1f9fdd94-f4c5-4166-9e4f-e2452c27d0dd"
      },
      "execution_count": 50,
      "outputs": [
        {
          "output_type": "stream",
          "name": "stdout",
          "text": [
            "망고\n",
            "복숭아\n",
            "참외\n"
          ]
        },
        {
          "output_type": "execute_result",
          "data": {
            "text/plain": [
              "'망고'"
            ],
            "application/vnd.google.colaboratory.intrinsic+json": {
              "type": "string"
            }
          },
          "metadata": {},
          "execution_count": 50
        }
      ]
    },
    {
      "cell_type": "markdown",
      "source": [
        "LinkedQue"
      ],
      "metadata": {
        "id": "-5gxQO_H67ch"
      }
    },
    {
      "cell_type": "code",
      "execution_count": 119,
      "metadata": {
        "id": "Rbh-yJMIwWaf",
        "colab": {
          "base_uri": "https://localhost:8080/"
        },
        "outputId": "41220c37-087b-40a4-9af0-5319f8a1a7ec"
      },
      "outputs": [
        {
          "output_type": "stream",
          "name": "stdout",
          "text": [
            "오렌지 수박 딸기 포도\n",
            "2\n",
            "수박 딸기 포도\n"
          ]
        }
      ],
      "source": [
        "class Node:\n",
        "  def __init__(self, item=None, link=None):\n",
        "    self.item = item #비어있는 노드를 선언할 일은 없음.\n",
        "    self.link = None\n",
        "\n",
        "class LinkedQue:\n",
        "  def __init__(self):\n",
        "    self.head = None\n",
        "    self.tail = None\n",
        "\n",
        "  def append(self, item): #que의 제일 뒤에 추가.\n",
        "    if self.isEmpty():\n",
        "      newNode = Node(item)\n",
        "      self.head = newNode\n",
        "      self.tail = newNode\n",
        "    else:\n",
        "      newNode = Node(item)\n",
        "      self.tail.link = newNode\n",
        "      self.tail = newNode\n",
        "  \n",
        "  def delete(self, item): #삭제하고자 하는 원소를 찾아 삭제하는 메소드\n",
        "    curNode = self.head\n",
        "    ind = self.search(item)\n",
        "    if ind == 0:\n",
        "      self.head = curNode.link\n",
        "    for i in range(0, ind-1):\n",
        "      curNode = curNode.link\n",
        "    curNode.link = curNode.link.link\n",
        "\n",
        "  def search(self, fruit): #찾고자하는 원소를 찾아 인덱스를 리턴하는 메소드\n",
        "    curNode = self.head\n",
        "    ind = 0\n",
        "    while True:\n",
        "      if curNode.item == fruit:\n",
        "        break\n",
        "      curNode = curNode.link\n",
        "      ind += 1\n",
        "    return ind\n",
        "\n",
        "  def isEmpty(self): #LinkedQue가 비어있으면 True를 반환하는 메소드\n",
        "    if (self.head==None):\n",
        "       return True\n",
        "    else:\n",
        "      return False\n",
        "\n",
        "  def pprint(self):\n",
        "    curNode = self.head\n",
        "    while curNode.link != None:\n",
        "      print(curNode.item, end = ' ')\n",
        "      curNode = curNode.link\n",
        "    print(curNode.item)\n",
        "\n",
        "A = LinkedQue()\n",
        "A.append('오렌지')\n",
        "A.append('수박')\n",
        "A.append('딸기')\n",
        "A.append('포도')\n",
        "A.pprint()\n",
        "print(A.search('딸기'))\n",
        "A.delete('오렌지')\n",
        "A.pprint()"
      ]
    }
  ]
}