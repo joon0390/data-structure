{
  "nbformat": 4,
  "nbformat_minor": 0,
  "metadata": {
    "colab": {
      "provenance": [],
      "authorship_tag": "ABX9TyO7yb4fGjbwppEBf8/7VrzN",
      "include_colab_link": true
    },
    "kernelspec": {
      "name": "python3",
      "display_name": "Python 3"
    },
    "language_info": {
      "name": "python"
    }
  },
  "cells": [
    {
      "cell_type": "markdown",
      "metadata": {
        "id": "view-in-github",
        "colab_type": "text"
      },
      "source": [
        "<a href=\"https://colab.research.google.com/github/kimgoinghard/data-structure/blob/main/study_torch_9_LogisticRegression.ipynb\" target=\"_parent\"><img src=\"https://colab.research.google.com/assets/colab-badge.svg\" alt=\"Open In Colab\"/></a>"
      ]
    },
    {
      "cell_type": "markdown",
      "source": [
        "#Logistic Regression \n",
        "- 둘 중 하나를 결정하는 이진분류문제에서 사용하는 대표적인 알고리즘!"
      ],
      "metadata": {
        "id": "3sbAd_2MMDU8"
      }
    },
    {
      "cell_type": "markdown",
      "source": [
        "Simple Lnear Regression에서의 직선과는 다르게 이진 분류에서는 직선을 사용하게 된다면 작동이 어렵다. 따라서 S자 모양의 그래프가 필요한데, 우리는 아래에 있는 **시그모이드** 함수를 사용한다. "
      ],
      "metadata": {
        "id": "UmBkKi64M2OJ"
      }
    },
    {
      "cell_type": "markdown",
      "source": [
        "H(x) = sigmoid(Wx + b) = \\frac{1}{1 + e^{-(Wx + b)}} = σ(Wx + b)"
      ],
      "metadata": {
        "id": "v1nFtDzHMjo5"
      }
    },
    {
      "cell_type": "code",
      "execution_count": null,
      "metadata": {
        "id": "xUPmi8IRL5VT"
      },
      "outputs": [],
      "source": [
        "import torch\n",
        "import numpy as np\n",
        "import matplotlib.pyplot as plt"
      ]
    },
    {
      "cell_type": "code",
      "source": [
        "#sigmoid 함수 정의하기\n",
        "def sigmoid(x):\n",
        "  return 1 / (1+np.exp(-x))"
      ],
      "metadata": {
        "id": "ClTmbSRpN45C"
      },
      "execution_count": null,
      "outputs": []
    },
    {
      "cell_type": "code",
      "source": [
        "x = np.arange(-5. , 5., 1. )\n",
        "y = sigmoid(x)\n",
        "plt.plot(x, y)\n",
        "plt.plot([0,0], [1,0], ':')\n",
        "plt.title('sigmoid function')\n",
        "plt.show()"
      ],
      "metadata": {
        "colab": {
          "base_uri": "https://localhost:8080/",
          "height": 281
        },
        "id": "Ax3e0dBXOC2X",
        "outputId": "90291b3f-8072-43b3-c5c4-898a7742c235"
      },
      "execution_count": null,
      "outputs": [
        {
          "output_type": "display_data",
          "data": {
            "text/plain": [
              "<Figure size 432x288 with 1 Axes>"
            ],
            "image/png": "[encoded data removed]"
          },
          "metadata": {
            "needs_background": "light"
          }
        }
      ]
    },
    {
      "cell_type": "markdown",
      "source": [
        "위의 시그모이드 함수는 출력값이 0과 1사이의 값으로 조정한다. x가 매우 작을 땐 0으로, 클 때는 1로 수렴한다. "
      ],
      "metadata": {
        "id": "rPAxYKaYPvDV"
      }
    },
    {
      "cell_type": "code",
      "source": [
        "#w값에 따른 시그모이드 함수의 변화\n",
        "w = np.arange(-5, 5, 1)\n",
        "y1 = sigmoid(0.5*x)\n",
        "y2 = sigmoid(x)\n",
        "y3 = sigmoid(2*x)\n",
        "plt.plot(x, y1, 'r', linestyle = '--')  #0.5w\n",
        "plt.plot(x, y2) # w\n",
        "plt.plot(x, y3, 'b', linestyle = '--') #2w\n",
        "plt.plot([0,0], [1,0], ':')\n",
        "plt.title('sigmoid function') "
      ],
      "metadata": {
        "colab": {
          "base_uri": "https://localhost:8080/",
          "height": 281
        },
        "id": "PlEWhvPWO49V",
        "outputId": "37eb7088-15a1-4827-a41b-6f96f46fde7a"
      },
      "execution_count": null,
      "outputs": [
        {
          "output_type": "display_data",
          "data": {
            "text/plain": [
              "<Figure size 432x288 with 1 Axes>"
            ],
            "image/png": "[encoded data removed]"
          },
          "metadata": {
            "needs_background": "light"
          }
        }
      ]
    },
    {
      "cell_type": "code",
      "source": [
        "x = np.arange(-5.0, 5.0, 0.1)\n",
        "y1 = sigmoid(x+0.5)\n",
        "y2 = sigmoid(x+1)\n",
        "y3 = sigmoid(x+1.5)\n",
        "\n",
        "plt.plot(x, y1, 'r', linestyle='--') # x + 0.5\n",
        "plt.plot(x, y2, 'g') # x + 1\n",
        "plt.plot(x, y3, 'b', linestyle='--') # x + 1.5\n",
        "plt.plot([0,0],[1.0,0.0], ':') \n",
        "plt.title('sigmoid function')\n",
        "plt.show()"
      ],
      "metadata": {
        "colab": {
          "base_uri": "https://localhost:8080/",
          "height": 281
        },
        "id": "Vj3cYuUgV6_N",
        "outputId": "1077691b-1626-44eb-f16f-27bbd44f6708"
      },
      "execution_count": null,
      "outputs": [
        {
          "output_type": "display_data",
          "data": {
            "text/plain": [
              "<Figure size 432x288 with 1 Axes>"
            ],
            "image/png": "[encoded data removed]"
          },
          "metadata": {
            "needs_background": "light"
          }
        }
      ]
    },
    {
      "cell_type": "markdown",
      "source": [
        "시그모이드 함수의 출력값이 0에서 1사이라는 특성을 가지고 0.5를 기준으로 0.5.이상이면 True, 이하이면 False 라고 판단하도록 할 수 있다."
      ],
      "metadata": {
        "id": "p5Firp43WKQH"
      }
    },
    {
      "cell_type": "markdown",
      "source": [
        "이제 비용함수를 정해보면, 선형회귀에서 사용했던 MSE를 그대로 사용한다면 아래 그래프와 같이 cost-function의 미분이 non-convex함수가 되어 gradient descent를 사용하기 어려워진다. 따라서 새로운 비용함수를 정의한다."
      ],
      "metadata": {
        "id": "X43BtydLWxdc"
      }
    },
    {
      "cell_type": "markdown",
      "source": [
        "![image.png](data:image/png;base64,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)"
      ],
      "metadata": {
        "id": "QusDnL9iZVxa"
      }
    },
    {
      "cell_type": "markdown",
      "source": [
        "시그모이드는 0과 1사이의 출력값을 가진다. 따라서 실제값이 1이었다면 예측값이 0에 가까울 수록 오차가 커지고, 실제값이 0이었다면 예측값이 1에 가까울수록 오차가 커진다. \n",
        "그리고 이를 만족시키는 함수가 y = 0.5에 대칭되는 두 개의 로그 함수이고 한 개의 식으로 정리하면 아래와 같다."
      ],
      "metadata": {
        "id": "u32LXqAsZudA"
      }
    },
    {
      "cell_type": "markdown",
      "source": [
        "cost( H(x), y) = -[ylogH(x) + (1-y)log(1-H(x))]"
      ],
      "metadata": {
        "id": "XVadBJZubNwO"
      }
    },
    {
      "cell_type": "code",
      "source": [
        "import torch\n",
        "import torch.nn as nn\n",
        "import torch.nn.functional as F\n",
        "import torch.optim as optim"
      ],
      "metadata": {
        "id": "A9hEhB2hWcPj"
      },
      "execution_count": null,
      "outputs": []
    },
    {
      "cell_type": "code",
      "source": [
        "torch.manual_seed(1)"
      ],
      "metadata": {
        "colab": {
          "base_uri": "https://localhost:8080/"
        },
        "id": "1S30JH6RWHb4",
        "outputId": "8ff7cf2a-84a9-4e22-b2f7-ad77c7bf5558"
      },
      "execution_count": null,
      "outputs": [
        {
          "output_type": "execute_result",
          "data": {
            "text/plain": [
              "<torch._C.Generator at 0x7fc2982a7a70>"
            ]
          },
          "metadata": {},
          "execution_count": 34
        }
      ]
    },
    {
      "cell_type": "code",
      "source": [
        "x_data = [[1, 2], [2, 3], [3, 1], [4, 3], [5, 3], [6, 2]]\n",
        "y_data = [[0], [0], [0], [1], [1], [1]]\n",
        "x_train = torch.FloatTensor(x_data)\n",
        "y_train = torch.FloatTensor(y_data)"
      ],
      "metadata": {
        "id": "CZdjk5CTcBMr"
      },
      "execution_count": null,
      "outputs": []
    },
    {
      "cell_type": "code",
      "source": [
        "print(x_train.shape)\n",
        "print(y_train.shape)"
      ],
      "metadata": {
        "colab": {
          "base_uri": "https://localhost:8080/"
        },
        "id": "uAjV0TxxcNB4",
        "outputId": "488b195a-7b1a-43ba-dbad-b51b5f2dd5d6"
      },
      "execution_count": null,
      "outputs": [
        {
          "output_type": "stream",
          "name": "stdout",
          "text": [
            "torch.Size([6, 2])\n",
            "torch.Size([6, 1])\n"
          ]
        }
      ]
    },
    {
      "cell_type": "code",
      "source": [
        "W = torch.zeros((2,1), requires_grad = True)\n",
        "b = torch.zeros((1), requires_grad = True)\n",
        "# y = sigmoid(w+b) "
      ],
      "metadata": {
        "id": "zfNYfnVRcaes"
      },
      "execution_count": null,
      "outputs": []
    },
    {
      "cell_type": "code",
      "source": [
        "y_hat =1/ (1+ torch.exp(x_train.matmul(W) + b))"
      ],
      "metadata": {
        "id": "VwbbNvO1dAUi"
      },
      "execution_count": null,
      "outputs": []
    },
    {
      "cell_type": "code",
      "source": [
        "print(y_hat) #W가 모두 0으로 초기화 되어있기 때문에 "
      ],
      "metadata": {
        "colab": {
          "base_uri": "https://localhost:8080/"
        },
        "id": "S_KLrkKbduWV",
        "outputId": "78ed4e6c-e86e-4e57-deb8-817da36590a7"
      },
      "execution_count": null,
      "outputs": [
        {
          "output_type": "stream",
          "name": "stdout",
          "text": [
            "tensor([[0.5000],\n",
            "        [0.5000],\n",
            "        [0.5000],\n",
            "        [0.5000],\n",
            "        [0.5000],\n",
            "        [0.5000]], grad_fn=<MulBackward0>)\n"
          ]
        }
      ]
    },
    {
      "cell_type": "code",
      "source": [
        "# -(y_train*torch.log(y_hat)  + (1-y_train)*torch.log(1-y_hat))\n",
        "# cost function"
      ],
      "metadata": {
        "colab": {
          "base_uri": "https://localhost:8080/"
        },
        "id": "CTJTxAP_d8ak",
        "outputId": "db8f24ae-810b-488d-de48-74edc1a65c6f"
      },
      "execution_count": null,
      "outputs": [
        {
          "output_type": "execute_result",
          "data": {
            "text/plain": [
              "tensor([[0.6931],\n",
              "        [0.6931],\n",
              "        [0.6931],\n",
              "        [0.6931],\n",
              "        [0.6931],\n",
              "        [0.6931]], grad_fn=<NegBackward0>)"
            ]
          },
          "metadata": {},
          "execution_count": 53
        }
      ]
    },
    {
      "cell_type": "code",
      "source": [
        "losses = -(y_train * torch.log(y_hat) + \n",
        "           (1 - y_train) * torch.log(1 - y_hat))\n",
        "print(losses)"
      ],
      "metadata": {
        "colab": {
          "base_uri": "https://localhost:8080/"
        },
        "id": "HT81YOt0eyF3",
        "outputId": "80747c33-9f66-41ca-f9f5-1265112554d6"
      },
      "execution_count": null,
      "outputs": [
        {
          "output_type": "stream",
          "name": "stdout",
          "text": [
            "tensor([[0.6931],\n",
            "        [0.6931],\n",
            "        [0.6931],\n",
            "        [0.6931],\n",
            "        [0.6931],\n",
            "        [0.6931]], grad_fn=<NegBackward0>)\n"
          ]
        }
      ]
    },
    {
      "cell_type": "code",
      "source": [
        "cost = losses.mean()\n",
        "print(cost)\n",
        "# 전체 오차의 평균이 cost function"
      ],
      "metadata": {
        "colab": {
          "base_uri": "https://localhost:8080/"
        },
        "id": "TfiRun7Oe2Z_",
        "outputId": "8de9a715-0715-44d4-f5a0-b5d4b4831310"
      },
      "execution_count": null,
      "outputs": [
        {
          "output_type": "stream",
          "name": "stdout",
          "text": [
            "tensor(0.6931, grad_fn=<MeanBackward0>)\n"
          ]
        }
      ]
    },
    {
      "cell_type": "code",
      "source": [
        "F.binary_cross_entropy(y_hat, y_train) #torch에서 제공하는 cost function 메소드"
      ],
      "metadata": {
        "colab": {
          "base_uri": "https://localhost:8080/"
        },
        "id": "7sZ_CWawfU-C",
        "outputId": "7e10f561-066c-409d-f181-5987bbecd614"
      },
      "execution_count": null,
      "outputs": [
        {
          "output_type": "execute_result",
          "data": {
            "text/plain": [
              "tensor(0.6931, grad_fn=<BinaryCrossEntropyBackward0>)"
            ]
          },
          "metadata": {},
          "execution_count": 60
        }
      ]
    },
    {
      "cell_type": "code",
      "source": [
        "x_data = [[1, 2], [2, 3], [3, 1], [4, 3], [5, 3], [6, 2]]\n",
        "y_data = [[0], [0], [0], [1], [1], [1]]\n",
        "x_train = torch.FloatTensor(x_data)\n",
        "y_train = torch.FloatTensor(y_data)\n",
        "\n",
        "W = torch.zeros((2, 1), requires_grad=True)\n",
        "b = torch.zeros(1, requires_grad=True)\n",
        "\n",
        "optimizer = optim.SGD([W, b], lr = 1)\n",
        "\n",
        "epochs = 1000\n",
        "for epoch in range(epochs + 1):\n",
        "  y_hat = torch.sigmoid(x_train.matmul(W) + b) \n",
        "  #cost = F.binary_cross_entropy(y_hat, y_train)\n",
        "\n",
        "  cost = -(y_train * torch.log(y_hat) + \n",
        "             (1 - y_train) * torch.log(1 - y_hat)).mean()\n",
        "\n",
        "  optimizer.zero_grad() #optimizer 0으로 초기화\n",
        "  cost.backward() #cost function 미분으로 매개변수 계산\n",
        "  optimizer.step() #매개변수 갱신\n",
        "\n",
        "  if epoch % 100 == 0:\n",
        "    print('Epoch : {0} / {1}, Cost : {2:.5f}  '.format(epoch, epochs, cost.item()))"
      ],
      "metadata": {
        "colab": {
          "base_uri": "https://localhost:8080/"
        },
        "id": "dSJmzqCkfr5E",
        "outputId": "cb1fc88b-70f4-4455-8849-0b2576623062"
      },
      "execution_count": null,
      "outputs": [
        {
          "output_type": "stream",
          "name": "stdout",
          "text": [
            "Epoch : 0 / 1000, Cost : 0.69315  \n",
            "Epoch : 100 / 1000, Cost : 0.13472  \n",
            "Epoch : 200 / 1000, Cost : 0.08064  \n",
            "Epoch : 300 / 1000, Cost : 0.05790  \n",
            "Epoch : 400 / 1000, Cost : 0.04530  \n",
            "Epoch : 500 / 1000, Cost : 0.03726  \n",
            "Epoch : 600 / 1000, Cost : 0.03167  \n",
            "Epoch : 700 / 1000, Cost : 0.02756  \n",
            "Epoch : 800 / 1000, Cost : 0.02439  \n",
            "Epoch : 900 / 1000, Cost : 0.02189  \n",
            "Epoch : 1000 / 1000, Cost : 0.01985  \n"
          ]
        }
      ]
    },
    {
      "cell_type": "code",
      "source": [
        "y_hat = torch.sigmoid(x_train.matmul(W) + b)\n",
        "print(y_hat)"
      ],
      "metadata": {
        "colab": {
          "base_uri": "https://localhost:8080/"
        },
        "id": "g6AKnEFXiH3O",
        "outputId": "f780f9c4-ad7b-4702-b093-3e065da82d3a"
      },
      "execution_count": null,
      "outputs": [
        {
          "output_type": "stream",
          "name": "stdout",
          "text": [
            "tensor([[2.7648e-04],\n",
            "        [3.1608e-02],\n",
            "        [3.8977e-02],\n",
            "        [9.5622e-01],\n",
            "        [9.9823e-01],\n",
            "        [9.9969e-01]], grad_fn=<SigmoidBackward0>)\n"
          ]
        }
      ]
    },
    {
      "cell_type": "code",
      "source": [
        "prediction = y_hat >= torch.FloatTensor([0.5])\n",
        "# 출력값이 0.5이상이면 True, 이하면 False를 출력하여 이진 분류를 수행하는 부분\n",
        "print(prediction)"
      ],
      "metadata": {
        "colab": {
          "base_uri": "https://localhost:8080/"
        },
        "id": "Zu1kWtSElB4o",
        "outputId": "66a30352-1b0f-4e61-cb6c-38474c1edeb1"
      },
      "execution_count": null,
      "outputs": [
        {
          "output_type": "stream",
          "name": "stdout",
          "text": [
            "tensor([[False],\n",
            "        [False],\n",
            "        [False],\n",
            "        [ True],\n",
            "        [ True],\n",
            "        [ True]])\n"
          ]
        }
      ]
    },
    {
      "cell_type": "code",
      "source": [
        "print(W)\n",
        "print(b)"
      ],
      "metadata": {
        "colab": {
          "base_uri": "https://localhost:8080/"
        },
        "id": "IeZm_sOelI90",
        "outputId": "bac3d0f8-5450-451b-cecc-e589d1a8179e"
      },
      "execution_count": null,
      "outputs": [
        {
          "output_type": "stream",
          "name": "stdout",
          "text": [
            "tensor([[3.2530],\n",
            "        [1.5179]], requires_grad=True)\n",
            "tensor([-14.4819], requires_grad=True)\n"
          ]
        }
      ]
    },
    {
      "cell_type": "code",
      "source": [
        "import torch\n",
        "import torch.nn as nn\n",
        "import torch.nn.functional as F\n",
        "import torch.optim as optim"
      ],
      "metadata": {
        "id": "Ia-hR1zRDP2A"
      },
      "execution_count": null,
      "outputs": []
    },
    {
      "cell_type": "code",
      "source": [
        "torch.manual_seed(1)"
      ],
      "metadata": {
        "colab": {
          "base_uri": "https://localhost:8080/"
        },
        "id": "uL2apVcxDWML",
        "outputId": "28ca3032-5f13-4ccd-cda8-41a3b3a7266f"
      },
      "execution_count": null,
      "outputs": [
        {
          "output_type": "execute_result",
          "data": {
            "text/plain": [
              "<torch._C.Generator at 0x7f7c97af84d0>"
            ]
          },
          "metadata": {},
          "execution_count": 5
        }
      ]
    },
    {
      "cell_type": "code",
      "source": [
        "x_data = [[1, 2], [2, 3], [3, 1], [4, 3], [5, 3], [6, 2]]\n",
        "y_data = [[0], [0], [0], [1], [1], [1]]\n",
        "x_train = torch.FloatTensor(x_data)\n",
        "y_train = torch.FloatTensor(y_data)"
      ],
      "metadata": {
        "id": "oAMUcRuKDoS6"
      },
      "execution_count": null,
      "outputs": []
    },
    {
      "cell_type": "code",
      "source": [
        "model  = nn.Sequential(\n",
        "                      nn.Linear(2,1), #input_dim = 2, output_dim =1 \n",
        "                      nn.Sigmoid()\n",
        "                      )\n",
        "# nn모듈의 Sequential()은 nn모듈의 층들을 여러개 쌓을 수 있도록 한다. \n",
        "# 지금은 로지스틱 회귀를 진행하므로, Linear층에 시그모이드 층을 연결했다."
      ],
      "metadata": {
        "id": "gFzy00LNDaLn"
      },
      "execution_count": null,
      "outputs": []
    },
    {
      "cell_type": "code",
      "source": [
        "model(x_train)"
      ],
      "metadata": {
        "colab": {
          "base_uri": "https://localhost:8080/"
        },
        "id": "hh7R040cEqy9",
        "outputId": "a917b57f-4f73-463c-9975-d38586d504a6"
      },
      "execution_count": null,
      "outputs": [
        {
          "output_type": "execute_result",
          "data": {
            "text/plain": [
              "tensor([[0.4147],\n",
              "        [0.4105],\n",
              "        [0.6101],\n",
              "        [0.5386],\n",
              "        [0.6018],\n",
              "        [0.7205]], grad_fn=<SigmoidBackward0>)"
            ]
          },
          "metadata": {},
          "execution_count": 39
        }
      ]
    },
    {
      "cell_type": "code",
      "source": [
        "optimizer = optim.SGD(model.parameters(), lr = 1)\n",
        "epochs = 1000\n",
        "for epoch in range(epochs + 1):\n",
        "  y_hat = model(x_train)\n",
        "\n",
        "  cost = F.binary_cross_entropy(y_hat, y_train)\n",
        "\n",
        "  optimizer.zero_grad()\n",
        "  cost.backward()\n",
        "  optimizer.step()\n",
        "\n",
        "  if epoch % 10 == 0:\n",
        "      prediction = y_hat>= torch.FloatTensor([0.5]) # 예측값이 0.5를 넘으면 True로 간주\n",
        "      correct_prediction = prediction.float() == y_train # 실제값과 일치하는 경우만 True로 간주\n",
        "      accuracy = correct_prediction.sum().item()/ len(correct_prediction) # 정확도를 계산\n",
        "      print('Epoch {:4d}/{} Cost: {:.6f} Accuracy {:2.2f}%'.format( # 각 에포크마다 정확도를 출력\n",
        "            epoch, epochs, cost.item(), accuracy * 100))\n",
        "      \n"
      ],
      "metadata": {
        "colab": {
          "base_uri": "https://localhost:8080/"
        },
        "id": "CkJZrRXDEuDk",
        "outputId": "54f85e8c-a139-4449-8885-f799de35a4a9"
      },
      "execution_count": null,
      "outputs": [
        {
          "output_type": "stream",
          "name": "stdout",
          "text": [
            "Epoch    0/1000 Cost: 0.010291 Accuracy 100.00%\n",
            "Epoch   10/1000 Cost: 0.010242 Accuracy 100.00%\n",
            "Epoch   20/1000 Cost: 0.010194 Accuracy 100.00%\n",
            "Epoch   30/1000 Cost: 0.010145 Accuracy 100.00%\n",
            "Epoch   40/1000 Cost: 0.010098 Accuracy 100.00%\n",
            "Epoch   50/1000 Cost: 0.010050 Accuracy 100.00%\n",
            "Epoch   60/1000 Cost: 0.010004 Accuracy 100.00%\n",
            "Epoch   70/1000 Cost: 0.009957 Accuracy 100.00%\n",
            "Epoch   80/1000 Cost: 0.009911 Accuracy 100.00%\n",
            "Epoch   90/1000 Cost: 0.009866 Accuracy 100.00%\n",
            "Epoch  100/1000 Cost: 0.009821 Accuracy 100.00%\n",
            "Epoch  110/1000 Cost: 0.009776 Accuracy 100.00%\n",
            "Epoch  120/1000 Cost: 0.009732 Accuracy 100.00%\n",
            "Epoch  130/1000 Cost: 0.009688 Accuracy 100.00%\n",
            "Epoch  140/1000 Cost: 0.009644 Accuracy 100.00%\n",
            "Epoch  150/1000 Cost: 0.009601 Accuracy 100.00%\n",
            "Epoch  160/1000 Cost: 0.009558 Accuracy 100.00%\n",
            "Epoch  170/1000 Cost: 0.009516 Accuracy 100.00%\n",
            "Epoch  180/1000 Cost: 0.009474 Accuracy 100.00%\n",
            "Epoch  190/1000 Cost: 0.009432 Accuracy 100.00%\n",
            "Epoch  200/1000 Cost: 0.009391 Accuracy 100.00%\n",
            "Epoch  210/1000 Cost: 0.009350 Accuracy 100.00%\n",
            "Epoch  220/1000 Cost: 0.009310 Accuracy 100.00%\n",
            "Epoch  230/1000 Cost: 0.009270 Accuracy 100.00%\n",
            "Epoch  240/1000 Cost: 0.009230 Accuracy 100.00%\n",
            "Epoch  250/1000 Cost: 0.009190 Accuracy 100.00%\n",
            "Epoch  260/1000 Cost: 0.009151 Accuracy 100.00%\n",
            "Epoch  270/1000 Cost: 0.009112 Accuracy 100.00%\n",
            "Epoch  280/1000 Cost: 0.009074 Accuracy 100.00%\n",
            "Epoch  290/1000 Cost: 0.009036 Accuracy 100.00%\n",
            "Epoch  300/1000 Cost: 0.008998 Accuracy 100.00%\n",
            "Epoch  310/1000 Cost: 0.008960 Accuracy 100.00%\n",
            "Epoch  320/1000 Cost: 0.008923 Accuracy 100.00%\n",
            "Epoch  330/1000 Cost: 0.008886 Accuracy 100.00%\n",
            "Epoch  340/1000 Cost: 0.008849 Accuracy 100.00%\n",
            "Epoch  350/1000 Cost: 0.008813 Accuracy 100.00%\n",
            "Epoch  360/1000 Cost: 0.008777 Accuracy 100.00%\n",
            "Epoch  370/1000 Cost: 0.008741 Accuracy 100.00%\n",
            "Epoch  380/1000 Cost: 0.008706 Accuracy 100.00%\n",
            "Epoch  390/1000 Cost: 0.008671 Accuracy 100.00%\n",
            "Epoch  400/1000 Cost: 0.008636 Accuracy 100.00%\n",
            "Epoch  410/1000 Cost: 0.008601 Accuracy 100.00%\n",
            "Epoch  420/1000 Cost: 0.008567 Accuracy 100.00%\n",
            "Epoch  430/1000 Cost: 0.008533 Accuracy 100.00%\n",
            "Epoch  440/1000 Cost: 0.008499 Accuracy 100.00%\n",
            "Epoch  450/1000 Cost: 0.008466 Accuracy 100.00%\n",
            "Epoch  460/1000 Cost: 0.008433 Accuracy 100.00%\n",
            "Epoch  470/1000 Cost: 0.008400 Accuracy 100.00%\n",
            "Epoch  480/1000 Cost: 0.008367 Accuracy 100.00%\n",
            "Epoch  490/1000 Cost: 0.008334 Accuracy 100.00%\n",
            "Epoch  500/1000 Cost: 0.008302 Accuracy 100.00%\n",
            "Epoch  510/1000 Cost: 0.008270 Accuracy 100.00%\n",
            "Epoch  520/1000 Cost: 0.008239 Accuracy 100.00%\n",
            "Epoch  530/1000 Cost: 0.008207 Accuracy 100.00%\n",
            "Epoch  540/1000 Cost: 0.008176 Accuracy 100.00%\n",
            "Epoch  550/1000 Cost: 0.008145 Accuracy 100.00%\n",
            "Epoch  560/1000 Cost: 0.008114 Accuracy 100.00%\n",
            "Epoch  570/1000 Cost: 0.008084 Accuracy 100.00%\n",
            "Epoch  580/1000 Cost: 0.008053 Accuracy 100.00%\n",
            "Epoch  590/1000 Cost: 0.008023 Accuracy 100.00%\n",
            "Epoch  600/1000 Cost: 0.007993 Accuracy 100.00%\n",
            "Epoch  610/1000 Cost: 0.007964 Accuracy 100.00%\n",
            "Epoch  620/1000 Cost: 0.007934 Accuracy 100.00%\n",
            "Epoch  630/1000 Cost: 0.007905 Accuracy 100.00%\n",
            "Epoch  640/1000 Cost: 0.007876 Accuracy 100.00%\n",
            "Epoch  650/1000 Cost: 0.007847 Accuracy 100.00%\n",
            "Epoch  660/1000 Cost: 0.007819 Accuracy 100.00%\n",
            "Epoch  670/1000 Cost: 0.007791 Accuracy 100.00%\n",
            "Epoch  680/1000 Cost: 0.007762 Accuracy 100.00%\n",
            "Epoch  690/1000 Cost: 0.007735 Accuracy 100.00%\n",
            "Epoch  700/1000 Cost: 0.007707 Accuracy 100.00%\n",
            "Epoch  710/1000 Cost: 0.007679 Accuracy 100.00%\n",
            "Epoch  720/1000 Cost: 0.007652 Accuracy 100.00%\n",
            "Epoch  730/1000 Cost: 0.007625 Accuracy 100.00%\n",
            "Epoch  740/1000 Cost: 0.007598 Accuracy 100.00%\n",
            "Epoch  750/1000 Cost: 0.007571 Accuracy 100.00%\n",
            "Epoch  760/1000 Cost: 0.007544 Accuracy 100.00%\n",
            "Epoch  770/1000 Cost: 0.007518 Accuracy 100.00%\n",
            "Epoch  780/1000 Cost: 0.007492 Accuracy 100.00%\n",
            "Epoch  790/1000 Cost: 0.007466 Accuracy 100.00%\n",
            "Epoch  800/1000 Cost: 0.007440 Accuracy 100.00%\n",
            "Epoch  810/1000 Cost: 0.007414 Accuracy 100.00%\n",
            "Epoch  820/1000 Cost: 0.007389 Accuracy 100.00%\n",
            "Epoch  830/1000 Cost: 0.007363 Accuracy 100.00%\n",
            "Epoch  840/1000 Cost: 0.007338 Accuracy 100.00%\n",
            "Epoch  850/1000 Cost: 0.007313 Accuracy 100.00%\n",
            "Epoch  860/1000 Cost: 0.007289 Accuracy 100.00%\n",
            "Epoch  870/1000 Cost: 0.007264 Accuracy 100.00%\n",
            "Epoch  880/1000 Cost: 0.007239 Accuracy 100.00%\n",
            "Epoch  890/1000 Cost: 0.007215 Accuracy 100.00%\n",
            "Epoch  900/1000 Cost: 0.007191 Accuracy 100.00%\n",
            "Epoch  910/1000 Cost: 0.007167 Accuracy 100.00%\n",
            "Epoch  920/1000 Cost: 0.007143 Accuracy 100.00%\n",
            "Epoch  930/1000 Cost: 0.007120 Accuracy 100.00%\n",
            "Epoch  940/1000 Cost: 0.007096 Accuracy 100.00%\n",
            "Epoch  950/1000 Cost: 0.007073 Accuracy 100.00%\n",
            "Epoch  960/1000 Cost: 0.007050 Accuracy 100.00%\n",
            "Epoch  970/1000 Cost: 0.007026 Accuracy 100.00%\n",
            "Epoch  980/1000 Cost: 0.007004 Accuracy 100.00%\n",
            "Epoch  990/1000 Cost: 0.006981 Accuracy 100.00%\n",
            "Epoch 1000/1000 Cost: 0.006958 Accuracy 100.00%\n"
          ]
        }
      ]
    },
    {
      "cell_type": "code",
      "source": [
        "model(x_train)"
      ],
      "metadata": {
        "colab": {
          "base_uri": "https://localhost:8080/"
        },
        "id": "mt91At8BJGPe",
        "outputId": "54914177-6b03-4eb6-9f6a-9ae31a794142"
      },
      "execution_count": null,
      "outputs": [
        {
          "output_type": "execute_result",
          "data": {
            "text/plain": [
              "tensor([[2.0463e-05],\n",
              "        [1.1471e-02],\n",
              "        [1.3600e-02],\n",
              "        [9.8390e-01],\n",
              "        [9.9977e-01],\n",
              "        [9.9998e-01]], grad_fn=<SigmoidBackward0>)"
            ]
          },
          "metadata": {},
          "execution_count": 44
        }
      ]
    },
    {
      "cell_type": "code",
      "source": [
        "print(list(model.parameters())) #W, b"
      ],
      "metadata": {
        "colab": {
          "base_uri": "https://localhost:8080/"
        },
        "id": "U5mC8uI9JKE4",
        "outputId": "aa726f0e-7f7e-4484-d525-18bacb846698"
      },
      "execution_count": null,
      "outputs": [
        {
          "output_type": "stream",
          "name": "stdout",
          "text": [
            "[Parameter containing:\n",
            "tensor([[4.2844, 2.0560]], requires_grad=True), Parameter containing:\n",
            "tensor([-19.1933], requires_grad=True)]\n"
          ]
        }
      ]
    },
    {
      "cell_type": "markdown",
      "source": [
        "사실 위와 같은 로지스틱 회귀는 인공신경망으로 생각할 수 있다. 각 입력에 가중치가 곱해지고 그것들에 편향을 더해 출력이 되는 구조가 인공신경망이다. \n",
        "따라서 인공신경망은 다중 로지스틱 회귀와 유사하다."
      ],
      "metadata": {
        "id": "6q8mqIS-JuAO"
      }
    },
    {
      "cell_type": "markdown",
      "source": [
        "로지스틱 회귀를 클래스로 구현해본다."
      ],
      "metadata": {
        "id": "UZWZ_2LmT50b"
      }
    },
    {
      "cell_type": "code",
      "source": [
        "import torch\n",
        "import torch.nn as nn\n",
        "import torch.nn.functional as F\n",
        "import torch.optim as optim"
      ],
      "metadata": {
        "id": "Y4LQNOtZVy9g"
      },
      "execution_count": 1,
      "outputs": []
    },
    {
      "cell_type": "code",
      "source": [
        "torch.manual_seed(1)"
      ],
      "metadata": {
        "colab": {
          "base_uri": "https://localhost:8080/"
        },
        "id": "yk-d1ouLV_to",
        "outputId": "3b78645c-10fd-4bda-cfe9-8b781b17d60f"
      },
      "execution_count": 2,
      "outputs": [
        {
          "output_type": "execute_result",
          "data": {
            "text/plain": [
              "<torch._C.Generator at 0x7f74d008a530>"
            ]
          },
          "metadata": {},
          "execution_count": 2
        }
      ]
    },
    {
      "cell_type": "code",
      "source": [
        "x_data = [[1,2], [2,3],[3,1],[4,3],[5,3],[6,2]]\n",
        "y_data=[[0],[0],[0],[1],[1],[1]]\n",
        "x_train = torch.FloatTensor(x_data)\n",
        "y_train = torch.FloatTensor(y_data)"
      ],
      "metadata": {
        "id": "LBU9GIG7c8qH"
      },
      "execution_count": 23,
      "outputs": []
    },
    {
      "cell_type": "code",
      "source": [
        "class BinaryClassifier(nn.Module):\n",
        "  def __init__(self):\n",
        "    super().__init__()\n",
        "    self.linear = nn.Linear(2,1)\n",
        "    self.sigmoid = nn.Sigmoid()\n",
        "  \n",
        "  def forward(self, x):\n",
        "    return self.sigmoid(self.linear(x))\n"
      ],
      "metadata": {
        "id": "xV7SzwaFdcdL"
      },
      "execution_count": 24,
      "outputs": []
    },
    {
      "cell_type": "code",
      "source": [
        "model = BinaryClassifier() #BinaryClassifier 객체 생성"
      ],
      "metadata": {
        "id": "TkjIr7i-eReI"
      },
      "execution_count": 31,
      "outputs": []
    },
    {
      "cell_type": "code",
      "source": [
        "optimizer = optim.SGD(model.parameters(), lr = 1)\n",
        "n_epoch = 1000\n",
        "for epoch in range(n_epoch+1):\n",
        "  y_hat  = model(x_train)\n",
        "  cost = F.binary_cross_entropy(y_hat, y_train)\n",
        "\n",
        "  optimizer.zero_grad()\n",
        "  cost.backward()\n",
        "  optimizer.step()\n",
        "\n",
        "  if epoch % 20 == 0 :\n",
        "    prediction = y_hat >= torch.FloatTensor([0.5])\n",
        "    correct_prediction = prediction.float() == y_train #prediction은 boolean이므로 float로 바꿔준 뒤 y_train과 같은 값만 correct_prediction에 저장한다.\n",
        "    accuracy = correct_prediction.sum().item() / len(correct_prediction) # .item() : 원소를 추출함. \n",
        "    print('Epoch : {0} / {1}, Cost : {2}, Accuracy : {3:5f}%'.format(epoch, n_epoch,cost.item() ,accuracy*100))"
      ],
      "metadata": {
        "colab": {
          "base_uri": "https://localhost:8080/"
        },
        "id": "80VM9Ap7eTO8",
        "outputId": "4a8bb6df-8384-4ab7-ccd3-c77dc0a9afee"
      },
      "execution_count": 32,
      "outputs": [
        {
          "output_type": "stream",
          "name": "stdout",
          "text": [
            "Epoch : 0 / 1000, Cost : 0.7789469361305237, Accuracy : 33.333333%\n",
            "Epoch : 20 / 1000, Cost : 0.44654831290245056, Accuracy : 66.666667%\n",
            "Epoch : 40 / 1000, Cost : 0.31894543766975403, Accuracy : 83.333333%\n",
            "Epoch : 60 / 1000, Cost : 0.22259362041950226, Accuracy : 100.000000%\n",
            "Epoch : 80 / 1000, Cost : 0.15815991163253784, Accuracy : 100.000000%\n",
            "Epoch : 100 / 1000, Cost : 0.13471552729606628, Accuracy : 100.000000%\n",
            "Epoch : 120 / 1000, Cost : 0.11863978952169418, Accuracy : 100.000000%\n",
            "Epoch : 140 / 1000, Cost : 0.10605091601610184, Accuracy : 100.000000%\n",
            "Epoch : 160 / 1000, Cost : 0.09592542052268982, Accuracy : 100.000000%\n",
            "Epoch : 180 / 1000, Cost : 0.0876035988330841, Accuracy : 100.000000%\n",
            "Epoch : 200 / 1000, Cost : 0.08064096421003342, Accuracy : 100.000000%\n",
            "Epoch : 220 / 1000, Cost : 0.07472769916057587, Accuracy : 100.000000%\n",
            "Epoch : 240 / 1000, Cost : 0.0696413442492485, Accuracy : 100.000000%\n",
            "Epoch : 260 / 1000, Cost : 0.06521832197904587, Accuracy : 100.000000%\n",
            "Epoch : 280 / 1000, Cost : 0.06133561208844185, Accuracy : 100.000000%\n",
            "Epoch : 300 / 1000, Cost : 0.05789893865585327, Accuracy : 100.000000%\n",
            "Epoch : 320 / 1000, Cost : 0.054834794253110886, Accuracy : 100.000000%\n",
            "Epoch : 340 / 1000, Cost : 0.052085086703300476, Accuracy : 100.000000%\n",
            "Epoch : 360 / 1000, Cost : 0.04960326850414276, Accuracy : 100.000000%\n",
            "Epoch : 380 / 1000, Cost : 0.047351568937301636, Accuracy : 100.000000%\n",
            "Epoch : 400 / 1000, Cost : 0.045299042016267776, Accuracy : 100.000000%\n",
            "Epoch : 420 / 1000, Cost : 0.043420176953077316, Accuracy : 100.000000%\n",
            "Epoch : 440 / 1000, Cost : 0.04169351980090141, Accuracy : 100.000000%\n",
            "Epoch : 460 / 1000, Cost : 0.04010115936398506, Accuracy : 100.000000%\n",
            "Epoch : 480 / 1000, Cost : 0.038627807050943375, Accuracy : 100.000000%\n",
            "Epoch : 500 / 1000, Cost : 0.037260502576828, Accuracy : 100.000000%\n",
            "Epoch : 520 / 1000, Cost : 0.035988111048936844, Accuracy : 100.000000%\n",
            "Epoch : 540 / 1000, Cost : 0.03480086103081703, Accuracy : 100.000000%\n",
            "Epoch : 560 / 1000, Cost : 0.033690545707941055, Accuracy : 100.000000%\n",
            "Epoch : 580 / 1000, Cost : 0.03264978900551796, Accuracy : 100.000000%\n",
            "Epoch : 600 / 1000, Cost : 0.03167220950126648, Accuracy : 100.000000%\n",
            "Epoch : 620 / 1000, Cost : 0.030752142891287804, Accuracy : 100.000000%\n",
            "Epoch : 640 / 1000, Cost : 0.029884638264775276, Accuracy : 100.000000%\n",
            "Epoch : 660 / 1000, Cost : 0.029065316542983055, Accuracy : 100.000000%\n",
            "Epoch : 680 / 1000, Cost : 0.028290139511227608, Accuracy : 100.000000%\n",
            "Epoch : 700 / 1000, Cost : 0.027555683627724648, Accuracy : 100.000000%\n",
            "Epoch : 720 / 1000, Cost : 0.02685878425836563, Accuracy : 100.000000%\n",
            "Epoch : 740 / 1000, Cost : 0.026196619495749474, Accuracy : 100.000000%\n",
            "Epoch : 760 / 1000, Cost : 0.025566643103957176, Accuracy : 100.000000%\n",
            "Epoch : 780 / 1000, Cost : 0.024966515600681305, Accuracy : 100.000000%\n",
            "Epoch : 800 / 1000, Cost : 0.024394148960709572, Accuracy : 100.000000%\n",
            "Epoch : 820 / 1000, Cost : 0.023847682401537895, Accuracy : 100.000000%\n",
            "Epoch : 840 / 1000, Cost : 0.023325348272919655, Accuracy : 100.000000%\n",
            "Epoch : 860 / 1000, Cost : 0.022825583815574646, Accuracy : 100.000000%\n",
            "Epoch : 880 / 1000, Cost : 0.022346964105963707, Accuracy : 100.000000%\n",
            "Epoch : 900 / 1000, Cost : 0.021888121962547302, Accuracy : 100.000000%\n",
            "Epoch : 920 / 1000, Cost : 0.021447939798235893, Accuracy : 100.000000%\n",
            "Epoch : 940 / 1000, Cost : 0.02102523110806942, Accuracy : 100.000000%\n",
            "Epoch : 960 / 1000, Cost : 0.020618947222828865, Accuracy : 100.000000%\n",
            "Epoch : 980 / 1000, Cost : 0.020228182896971703, Accuracy : 100.000000%\n",
            "Epoch : 1000 / 1000, Cost : 0.01985207013785839, Accuracy : 100.000000%\n"
          ]
        }
      ]
    },
    {
      "cell_type": "code",
      "source": [
        "correct_prediction.sum().item()"
      ],
      "metadata": {
        "colab": {
          "base_uri": "https://localhost:8080/"
        },
        "id": "nVDOt59ij6xZ",
        "outputId": "5492aa65-2755-45a7-acdd-a278c385e2ef"
      },
      "execution_count": 29,
      "outputs": [
        {
          "output_type": "execute_result",
          "data": {
            "text/plain": [
              "6"
            ]
          },
          "metadata": {},
          "execution_count": 29
        }
      ]
    }
  ]
}